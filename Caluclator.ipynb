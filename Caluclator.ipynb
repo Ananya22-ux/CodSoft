{
  "nbformat": 4,
  "nbformat_minor": 0,
  "metadata": {
    "colab": {
      "provenance": [],
      "authorship_tag": "ABX9TyPtSS/OTd+f5cbcMVW60WbD",
      "include_colab_link": true
    },
    "kernelspec": {
      "name": "python3",
      "display_name": "Python 3"
    },
    "language_info": {
      "name": "python"
    }
  },
  "cells": [
    {
      "cell_type": "markdown",
      "metadata": {
        "id": "view-in-github",
        "colab_type": "text"
      },
      "source": [
        "<a href=\"https://colab.research.google.com/github/Ananya22-ux/CodSoft/blob/main/Caluclator.ipynb\" target=\"_parent\"><img src=\"https://colab.research.google.com/assets/colab-badge.svg\" alt=\"Open In Colab\"/></a>"
      ]
    },
    {
      "cell_type": "code",
      "execution_count": null,
      "metadata": {
        "id": "NxNFZYW83J-y"
      },
      "outputs": [],
      "source": [
        "def calculator():\n",
        "    print(\"Welcome to the calculator!\")"
      ]
    },
    {
      "cell_type": "code",
      "source": [
        "num1 = float(input(\"Enter the first number: \"))\n",
        "num2 = float(input(\"Enter the second number: \"))"
      ],
      "metadata": {
        "colab": {
          "base_uri": "https://localhost:8080/"
        },
        "id": "fhSnleX45sZu",
        "outputId": "75bfbd53-c7ba-4e1f-a313-98c839410b70"
      },
      "execution_count": null,
      "outputs": [
        {
          "name": "stdout",
          "output_type": "stream",
          "text": [
            "Enter the first number: 1\n",
            "Enter the second number: 2\n"
          ]
        }
      ]
    },
    {
      "cell_type": "code",
      "source": [
        "operation = input(\"Enter the operation (+, -, *, /): \")"
      ],
      "metadata": {
        "colab": {
          "base_uri": "https://localhost:8080/"
        },
        "id": "ufb2mB9o59BE",
        "outputId": "405ae9c7-c224-4c9c-fcd6-5fa1b6e68279"
      },
      "execution_count": null,
      "outputs": [
        {
          "name": "stdout",
          "output_type": "stream",
          "text": [
            "Enter the operation (+, -, *, /): +\n"
          ]
        }
      ]
    },
    {
      "cell_type": "code",
      "source": [
        "if operation == \"+\":\n",
        "        result = num1 + num2\n",
        "        print(f\"{num1} + {num2} = {result}\")"
      ],
      "metadata": {
        "colab": {
          "base_uri": "https://localhost:8080/"
        },
        "id": "HB9X2ddk6HZb",
        "outputId": "c227a7a8-0807-4871-8391-2e67c5e3a7c0"
      },
      "execution_count": null,
      "outputs": [
        {
          "output_type": "stream",
          "name": "stdout",
          "text": [
            "1.0 + 2.0 = 3.0\n"
          ]
        }
      ]
    },
    {
      "cell_type": "code",
      "source": [
        " if operation == \"-\":\n",
        "        result = num1 - num2\n",
        "        print(f\"{num1} - {num2} = {result}\")"
      ],
      "metadata": {
        "id": "PbOEoeZx721L"
      },
      "execution_count": null,
      "outputs": []
    },
    {
      "cell_type": "code",
      "source": [
        "if operation == \"*\":\n",
        "        result = num1 * num2\n",
        "        print(f\"{num1} * {num2} = {result}\")"
      ],
      "metadata": {
        "id": "lFwfRLvs8nHe"
      },
      "execution_count": null,
      "outputs": []
    },
    {
      "cell_type": "code",
      "source": [
        "if operation == \"/\":\n",
        "        if num2 != 0:\n",
        "            result = num1 / num2\n",
        "            print(f\"{num1} / {num2} = {result}\")\n",
        "        else:\n",
        "            print(\"Error: Division by zero is not allowed.\")"
      ],
      "metadata": {
        "id": "W4Obbemv8vOj"
      },
      "execution_count": null,
      "outputs": []
    },
    {
      "cell_type": "code",
      "source": [
        "\n",
        "        print(\"Error: Invalid operation.\")"
      ],
      "metadata": {
        "colab": {
          "base_uri": "https://localhost:8080/"
        },
        "id": "IpRHt0Q682W7",
        "outputId": "cd5ee393-2f6b-4c51-abd4-09da6850cfeb"
      },
      "execution_count": null,
      "outputs": [
        {
          "output_type": "stream",
          "name": "stdout",
          "text": [
            "Error: Invalid operation.\n"
          ]
        }
      ]
    },
    {
      "cell_type": "code",
      "source": [
        "again = input(\"Do you want to perform another calculation? (y/n): \")\n",
        "if again.lower() == \"y\":\n",
        "        calculator()"
      ],
      "metadata": {
        "colab": {
          "base_uri": "https://localhost:8080/"
        },
        "id": "aSUkbTiH8_Wj",
        "outputId": "407d99a2-7e5d-439c-803a-9cae8e584e09"
      },
      "execution_count": null,
      "outputs": [
        {
          "output_type": "stream",
          "name": "stdout",
          "text": [
            "Do you want to perform another calculation? (y/n): y\n",
            "Welcome to the calculator!\n"
          ]
        }
      ]
    },
    {
      "cell_type": "code",
      "source": [
        "calculator()"
      ],
      "metadata": {
        "colab": {
          "base_uri": "https://localhost:8080/"
        },
        "id": "-CkuVcD_9KLQ",
        "outputId": "e12cdf0e-9855-4158-bd84-3935b18b6b36"
      },
      "execution_count": null,
      "outputs": [
        {
          "output_type": "stream",
          "name": "stdout",
          "text": [
            "Welcome to the calculator!\n"
          ]
        }
      ]
    },
    {
      "cell_type": "code",
      "source": [
        "def calculator():\n",
        "    print(\"Welcome to the calculator!\")\n",
        "\n",
        "    while True:\n",
        "        try:\n",
        "            num1 = float(input(\"Enter the first number: \"))\n",
        "            num2 = float(input(\"Enter the second number: \"))\n",
        "            break\n",
        "        except ValueError:\n",
        "            print(\"Invalid input. Please enter a number.\")\n",
        "\n",
        "    while True:\n",
        "        operation = input(\"Enter the operation (+, -, *, /): \")\n",
        "        if operation in [\"+\", \"-\", \"*\", \"/\"]:\n",
        "            break\n",
        "        else:\n",
        "            print(\"Error: Invalid operation.\")\n",
        "\n",
        "    if operation == \"+\":\n",
        "        result = num1 + num2\n",
        "        print(f\"{num1} + {num2} = {result}\")\n",
        "    elif operation == \"-\":\n",
        "        result = num1 - num2\n",
        "        print(f\"{num1} - {num2} = {result}\")\n",
        "    elif operation == \"*\":\n",
        "        result = num1 * num2\n",
        "        print(f\"{num1} * {num2} = {result}\")\n",
        "    elif operation == \"/\":\n",
        "        if num2 != 0:\n",
        "            result = num1 / num2\n",
        "            print(f\"{num1} / {num2} = {result}\")\n",
        "        else:\n",
        "            print(\"Error: Division by zero is not allowed.\")\n",
        "\n",
        "    again = input(\"Do you want to perform another calculation? (y/n): \")\n",
        "    if again.lower() == \"y\":\n",
        "        calculator()\n",
        "\n",
        "calculator()"
      ],
      "metadata": {
        "colab": {
          "base_uri": "https://localhost:8080/"
        },
        "id": "VEFtNZ_i9X9j",
        "outputId": "d1857216-e13b-4c12-9f63-a23769333187"
      },
      "execution_count": null,
      "outputs": [
        {
          "name": "stdout",
          "output_type": "stream",
          "text": [
            "Welcome to the calculator!\n",
            "Enter the first number: 10\n",
            "Enter the second number: 20\n",
            "Enter the operation (+, -, *, /): +\n",
            "10.0 + 20.0 = 30.0\n",
            "Do you want to perform another calculation? (y/n): y\n",
            "Welcome to the calculator!\n",
            "Enter the first number: 25\n",
            "Enter the second number: 25\n",
            "Enter the operation (+, -, *, /): *\n",
            "25.0 * 25.0 = 625.0\n",
            "Do you want to perform another calculation? (y/n): n\n"
          ]
        }
      ]
    }
  ]
}