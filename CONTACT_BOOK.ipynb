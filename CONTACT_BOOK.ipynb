{
  "nbformat": 4,
  "nbformat_minor": 0,
  "metadata": {
    "colab": {
      "provenance": [],
      "authorship_tag": "ABX9TyMsmtpmVCiCxFuH6f2AQQ1d",
      "include_colab_link": true
    },
    "kernelspec": {
      "name": "python3",
      "display_name": "Python 3"
    },
    "language_info": {
      "name": "python"
    }
  },
  "cells": [
    {
      "cell_type": "markdown",
      "metadata": {
        "id": "view-in-github",
        "colab_type": "text"
      },
      "source": [
        "<a href=\"https://colab.research.google.com/github/Ananya22-ux/CodSoft/blob/main/CONTACT_BOOK.ipynb\" target=\"_parent\"><img src=\"https://colab.research.google.com/assets/colab-badge.svg\" alt=\"Open In Colab\"/></a>"
      ]
    },
    {
      "cell_type": "markdown",
      "source": [
        "Contact Information: Store name, phone number, email, and address for each contact.\n",
        "Add Contact: Allow users to add new contacts with their details.\n",
        "View Contact List: Display a list of all saved contacts with names and phone numbers.\n",
        "Search Contact: Implement a search function to find contacts by name or phone number.\n",
        "Update Contact: Enable users to update contact details.\n",
        "Delete Contact: Provide an option to delete a contact.\n",
        "User Interface: Design a user-friendly interface for easy interaction"
      ],
      "metadata": {
        "id": "QxObxG2nn_Lg"
      }
    },
    {
      "cell_type": "code",
      "source": [
        "contacts = []  # List to store contact dictionaries"
      ],
      "metadata": {
        "id": "AzSEdNNHoUf5"
      },
      "execution_count": null,
      "outputs": []
    },
    {
      "cell_type": "code",
      "source": [
        "def show_menu():\n",
        "    print(\"Contact Book\")\n",
        "    print(\"1. Add Contact\")\n",
        "    print(\"2. View Contact List\")\n",
        "    print(\"3. Search Contact\")\n",
        "    print(\"4. Update Contact\")\n",
        "    print(\"5. Delete Contact\")\n",
        "    print(\"6. Exit\")"
      ],
      "metadata": {
        "id": "sYZmVcnBohS4"
      },
      "execution_count": null,
      "outputs": []
    },
    {
      "cell_type": "code",
      "source": [
        "def add_contact():\n",
        "    name = input(\"Enter name: \")\n",
        "    phone = input(\"Enter phone number: \")\n",
        "    email = input(\"Enter email: \")\n",
        "    address = input(\"Enter address: \")\n",
        "    contact = {\"name\": name, \"phone\": phone, \"email\": email, \"address\": address}\n",
        "    contacts.append(contact)\n",
        "    print(\"Contact added successfully!\")"
      ],
      "metadata": {
        "id": "fatMmnYhoqo1"
      },
      "execution_count": null,
      "outputs": []
    },
    {
      "cell_type": "code",
      "source": [
        "def view_contacts():\n",
        "    if not contacts:\n",
        "        print(\"No contacts found.\")\n",
        "    else:\n",
        "        for contact in contacts:\n",
        "            print(f\"Name: {contact['name']}, Phone: {contact['phone']}\")"
      ],
      "metadata": {
        "id": "CHB00eY6o__2"
      },
      "execution_count": null,
      "outputs": []
    },
    {
      "cell_type": "code",
      "source": [
        "def search_contact():\n",
        "    search_term = input(\"Enter name or phone number to search: \")\n",
        "    matching_contacts = [contact for contact in contacts if search_term.lower() in contact['name'].lower() or search_term in contact['phone']]\n",
        "    if not matching_contacts:\n",
        "        print(\"No matching contacts found.\")\n",
        "    else:\n",
        "        for contact in matching_contacts:\n",
        "            print(f\"Name: {contact['name']}, Phone: {contact['phone']}, Email: {contact['email']}, Address: {contact['address']}\")"
      ],
      "metadata": {
        "id": "qDXjSpslpaA6"
      },
      "execution_count": null,
      "outputs": []
    },
    {
      "cell_type": "code",
      "source": [
        "def update_contact():\n",
        "    search_term = input(\"Enter name or phone number of the contact to update: \")\n",
        "    matching_contacts = [contact for contact in contacts if search_term.lower() in contact['name'].lower() or search_term in contact['phone']]\n",
        "    if not matching_contacts:\n",
        "        print(\"No matching contacts found.\")\n",
        "    else:\n",
        "        for i, contact in enumerate(matching_contacts, start=1):\n",
        "            print(f\"{i}. Name: {contact['name']}, Phone: {contact['phone']}\")\n",
        "        choice = int(input(\"Enter the number of the contact to update: \"))\n",
        "        if 1 <= choice <= len(matching_contacts):\n",
        "            update_contact = matching_contacts[choice - 1]\n",
        "            name = input(\"Enter new name (leave blank to keep current): \") or update_contact['name']\n",
        "            phone = input(\"Enter new phone number (leave blank to keep current): \") or update_contact['phone']\n",
        "            email = input(\"Enter new email (leave blank to keep current): \") or update_contact['email']\n",
        "            address = input(\"Enter new address (leave blank to keep current): \") or update_contact['address']\n",
        "            update_contact.update({\"name\": name, \"phone\": phone, \"email\": email, \"address\": address})\n",
        "            print(\"Contact updated successfully!\")\n",
        "        else:\n",
        "            print(\"Invalid choice.\")"
      ],
      "metadata": {
        "id": "flJeUgNipsRi"
      },
      "execution_count": null,
      "outputs": []
    },
    {
      "cell_type": "code",
      "source": [
        "def delete_contact():\n",
        "    search_term = input(\"Enter name or phone number of the contact to delete: \")\n",
        "    matching_contacts = [contact for contact in contacts if search_term.lower() in contact['name'].lower() or search_term in contact['phone']]\n",
        "    if not matching_contacts:\n",
        "        print(\"No matching contacts found.\")\n",
        "    else:\n",
        "        for i, contact in enumerate(matching_contacts, start=1):\n",
        "            print(f\"{i}. Name: {contact['name']}, Phone: {contact['phone']}\")\n",
        "        choice = int(input(\"Enter the number of the contact to delete: \"))\n",
        "        if 1 <= choice <= len(matching_contacts):\n",
        "            contacts.remove(matching_contacts[choice - 1])\n",
        "            print(\"Contact deleted successfully!\")\n",
        "        else:\n",
        "            print(\"Invalid choice.\")"
      ],
      "metadata": {
        "id": "bW-xfQCeqXJp"
      },
      "execution_count": null,
      "outputs": []
    },
    {
      "cell_type": "code",
      "source": [
        "while True:\n",
        "    show_menu()\n",
        "    choice = input(\"Enter your choice (1-6): \")\n",
        "\n",
        "    if choice == \"1\":\n",
        "        add_contact()\n",
        "    elif choice == \"2\":\n",
        "        view_contacts()\n",
        "    elif choice == \"3\":\n",
        "        search_contact()\n",
        "    elif choice == \"4\":\n",
        "        update_contact()\n",
        "    elif choice == \"5\":\n",
        "        delete_contact()\n",
        "    elif choice == \"6\":\n",
        "        print(\"Exiting the application...\")\n",
        "        break\n",
        "    else:\n",
        "        print(\"Invalid choice. Please try again.\")"
      ],
      "metadata": {
        "colab": {
          "base_uri": "https://localhost:8080/"
        },
        "id": "1Hiuz9Ykqcxc",
        "outputId": "f985ea60-f714-43a4-e5f1-e9006e8cecbb"
      },
      "execution_count": null,
      "outputs": [
        {
          "output_type": "stream",
          "name": "stdout",
          "text": [
            "Contact Book\n",
            "1. Add Contact\n",
            "2. View Contact List\n",
            "3. Search Contact\n",
            "4. Update Contact\n",
            "5. Delete Contact\n",
            "6. Exit\n",
            "Enter your choice (1-6): 1\n",
            "Enter name: ananya\n",
            "Enter phone number: 678976897\n",
            "Enter email: asgfdh@gmail.com\n",
            "Enter address: uttar pradesh\n",
            "Contact added successfully!\n",
            "Contact Book\n",
            "1. Add Contact\n",
            "2. View Contact List\n",
            "3. Search Contact\n",
            "4. Update Contact\n",
            "5. Delete Contact\n",
            "6. Exit\n",
            "Enter your choice (1-6): 1\n",
            "Enter name: ani\n",
            "Enter phone number: 8978906789\n",
            "Enter email: efghj@gmail.com\n",
            "Enter address: gujrath\n",
            "Contact added successfully!\n",
            "Contact Book\n",
            "1. Add Contact\n",
            "2. View Contact List\n",
            "3. Search Contact\n",
            "4. Update Contact\n",
            "5. Delete Contact\n",
            "6. Exit\n",
            "Enter your choice (1-6): 2\n",
            "Name: ANANYA, Phone: 9809768978\n",
            "Name: ananya, Phone: 7879867098\n",
            "Name: anirudhh, Phone: 8987679890\n",
            "Name: ananya, Phone: 678976897\n",
            "Name: ani, Phone: 8978906789\n",
            "Contact Book\n",
            "1. Add Contact\n",
            "2. View Contact List\n",
            "3. Search Contact\n",
            "4. Update Contact\n",
            "5. Delete Contact\n",
            "6. Exit\n",
            "Enter your choice (1-6): 6\n",
            "Exiting the application...\n"
          ]
        }
      ]
    }
  ]
}