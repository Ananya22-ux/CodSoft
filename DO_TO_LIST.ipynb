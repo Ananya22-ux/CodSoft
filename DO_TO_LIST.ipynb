{
  "nbformat": 4,
  "nbformat_minor": 0,
  "metadata": {
    "colab": {
      "provenance": []
    },
    "kernelspec": {
      "name": "python3",
      "display_name": "Python 3"
    },
    "language_info": {
      "name": "python"
    }
  },
  "cells": [
    {
      "cell_type": "markdown",
      "source": [
        "A To-Do List application is a useful project that helps users manage\n",
        "and organize their tasks efficiently. This project aims to create a\n",
        "command-line or GUI-based application using Python, allowing\n",
        "users to create, update, and track their to-do lists"
      ],
      "metadata": {
        "id": "REm4ombZA4ci"
      }
    },
    {
      "cell_type": "code",
      "source": [
        "# Define a list to store the tasks\n",
        "tasks = []"
      ],
      "metadata": {
        "id": "pHCZ7dISA_-8"
      },
      "execution_count": null,
      "outputs": []
    },
    {
      "cell_type": "code",
      "source": [
        "def show_menu():\n",
        "    print(\"To-Do List Application\")\n",
        "    print(\"1. Add Task\")\n",
        "    print(\"2. View Tasks\")\n",
        "    print(\"3. Mark Task as Complete\")\n",
        "    print(\"4. Remove Task\")\n",
        "    print(\"5. Exit\")"
      ],
      "metadata": {
        "id": "Kv7i9Ul5BHUm"
      },
      "execution_count": null,
      "outputs": []
    },
    {
      "cell_type": "code",
      "source": [
        "def add_task():\n",
        "    task = input(\"Enter the task: \")\n",
        "    tasks.append(task)\n",
        "    print(\"Task added successfully!\")"
      ],
      "metadata": {
        "id": "rRncAX0MBP0Q"
      },
      "execution_count": null,
      "outputs": []
    },
    {
      "cell_type": "code",
      "source": [
        "def view_tasks():\n",
        "    if not tasks:\n",
        "        print(\"No tasks found.\")\n",
        "    else:\n",
        "        print(\"Tasks:\")\n",
        "        for index, task in enumerate(tasks, start=1):\n",
        "            print(f\"{index}. {task}\")"
      ],
      "metadata": {
        "id": "FaCv19EjB0GL"
      },
      "execution_count": null,
      "outputs": []
    },
    {
      "cell_type": "code",
      "source": [
        "def mark_complete():\n",
        "    view_tasks()\n",
        "    task_index = int(input(\"Enter the task number to mark as complete: \"))\n",
        "    if 1 <= task_index <= len(tasks):\n",
        "        completed_task = tasks.pop(task_index - 1)\n",
        "        print(f\"Task '{completed_task}' marked as complete.\")\n",
        "    else:\n",
        "        print(\"Invalid task number.\")"
      ],
      "metadata": {
        "id": "hddkbp-NDr4A"
      },
      "execution_count": null,
      "outputs": []
    },
    {
      "cell_type": "code",
      "source": [
        "def remove_task():\n",
        "    view_tasks()\n",
        "    task_index = int(input(\"Enter the task number to remove: \"))\n",
        "    if 1 <= task_index <= len(tasks):\n",
        "        removed_task = tasks.pop(task_index - 1)\n",
        "        print(f\"Task '{removed_task}' removed successfully.\")\n",
        "    else:\n",
        "        print(\"Invalid task number.\")"
      ],
      "metadata": {
        "id": "dGDuCZOpD0NQ"
      },
      "execution_count": null,
      "outputs": []
    },
    {
      "cell_type": "code",
      "source": [
        "while True:\n",
        "    show_menu()\n",
        "    choice = input(\"Enter your choice (1-5): \")\n",
        "\n",
        "    if choice == \"1\":\n",
        "        add_task()\n",
        "    elif choice == \"2\":\n",
        "        view_tasks()\n",
        "    elif choice == \"3\":\n",
        "        mark_complete()\n",
        "    elif choice == \"4\":\n",
        "        remove_task()\n",
        "    elif choice == \"5\":\n",
        "        print(\"Exiting the application...\")\n",
        "        break\n",
        "    else:\n",
        "        print(\"Invalid choice. Please try again.\")"
      ],
      "metadata": {
        "colab": {
          "base_uri": "https://localhost:8080/"
        },
        "id": "Wa0QIZ9CD4rK",
        "outputId": "4e39e1da-0b96-4139-9a3b-8241933c2763"
      },
      "execution_count": null,
      "outputs": [
        {
          "output_type": "stream",
          "name": "stdout",
          "text": [
            "To-Do List Application\n",
            "1. Add Task\n",
            "2. View Tasks\n",
            "3. Mark Task as Complete\n",
            "4. Remove Task\n",
            "5. Exit\n",
            "Enter your choice (1-5): 1\n",
            "Enter the task: computer design\n",
            "Task added successfully!\n",
            "To-Do List Application\n",
            "1. Add Task\n",
            "2. View Tasks\n",
            "3. Mark Task as Complete\n",
            "4. Remove Task\n",
            "5. Exit\n",
            "Enter your choice (1-5): 1\n",
            "Enter the task: arethematic progression\n",
            "Task added successfully!\n",
            "To-Do List Application\n",
            "1. Add Task\n",
            "2. View Tasks\n",
            "3. Mark Task as Complete\n",
            "4. Remove Task\n",
            "5. Exit\n",
            "Enter your choice (1-5): algebra\n",
            "Invalid choice. Please try again.\n",
            "To-Do List Application\n",
            "1. Add Task\n",
            "2. View Tasks\n",
            "3. Mark Task as Complete\n",
            "4. Remove Task\n",
            "5. Exit\n",
            "Enter your choice (1-5): 2\n",
            "Tasks:\n",
            "1. arithematic progression\n",
            "2. computer design\n",
            "3. arethematic progression\n",
            "To-Do List Application\n",
            "1. Add Task\n",
            "2. View Tasks\n",
            "3. Mark Task as Complete\n",
            "4. Remove Task\n",
            "5. Exit\n",
            "Enter your choice (1-5): 3\n",
            "Tasks:\n",
            "1. arithematic progression\n",
            "2. computer design\n",
            "3. arethematic progression\n",
            "Enter the task number to mark as complete: 2\n",
            "Task 'computer design' marked as complete.\n",
            "To-Do List Application\n",
            "1. Add Task\n",
            "2. View Tasks\n",
            "3. Mark Task as Complete\n",
            "4. Remove Task\n",
            "5. Exit\n",
            "Enter your choice (1-5): 5\n",
            "Exiting the application...\n"
          ]
        }
      ]
    }
  ]
}